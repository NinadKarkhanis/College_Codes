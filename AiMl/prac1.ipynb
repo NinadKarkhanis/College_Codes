{
 "cells": [
  {
   "cell_type": "code",
   "execution_count": 1,
   "metadata": {},
   "outputs": [
    {
     "name": "stdout",
     "output_type": "stream",
     "text": [
      "Following is Depth First Traversal starting from vertex 2\n",
      "2013"
     ]
    }
   ],
   "source": [
    "from collections import defaultdict\n",
    "class Graph:\n",
    "    #Constructor\n",
    "    def __init__(self):\n",
    "        # Default dictonary to store graph\n",
    "        self.graph=defaultdict(list)\n",
    "    # Function to add an edge to graph\n",
    "    def addEdge (self,u,v):\n",
    "        self.graph[u].append(v)\n",
    "        # Print(u,self.graph[u])\n",
    "        \n",
    "    #function used by DFS\n",
    "    def DFSutil(self,v,visited):\n",
    "        # Mark current node as visited and print \n",
    "        # print(\"inside dfsutil\",v,end=\"\")\n",
    "        # print(visited,end=\"\")\n",
    "        visited[v]=True\n",
    "        print(v,end=\"\")\n",
    "        \n",
    "        # Recure for all the vertices adjacent to this vertex\n",
    "        for i in self.graph[v]:\n",
    "            # print(end=\"\\n \")\n",
    "            # print(\"inside for \" ,i,visited[i])\n",
    "            if visited[i] ==False:\n",
    "                self.DFSutil(i,visited)\n",
    "                \n",
    "    # Function to do DFS Traversal. It usercursive DFSutil\n",
    "    def DFS(self,v):\n",
    "        # Mark all the vertices as not visited\n",
    "        visited=[False]*(len(self.graph))\n",
    "        # print (\"inside DSF\")\n",
    "        # print (visited)\n",
    "        \n",
    "        # Call the recursive helper funciton to print DFS traversal\n",
    "        self.DFSutil(v,visited)\n",
    "        \n",
    "# Creating graph\n",
    "g=Graph()\n",
    "g.addEdge(0,1)\n",
    "g.addEdge(0,2)\n",
    "g.addEdge(1,2)\n",
    "g.addEdge(2,0)\n",
    "g.addEdge(2,3)\n",
    "g.addEdge(3,3)\n",
    "\n",
    "print(\"Following is Depth First Traversal starting from vertex 2\")\n",
    "g.DFS(2)"
   ]
  }
 ],
 "metadata": {
  "kernelspec": {
   "display_name": "Python 3",
   "language": "python",
   "name": "python3"
  },
  "language_info": {
   "codemirror_mode": {
    "name": "ipython",
    "version": 3
   },
   "file_extension": ".py",
   "mimetype": "text/x-python",
   "name": "python",
   "nbconvert_exporter": "python",
   "pygments_lexer": "ipython3",
   "version": "3.11.3"
  }
 },
 "nbformat": 4,
 "nbformat_minor": 2
}
